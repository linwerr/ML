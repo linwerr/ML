{
 "cells": [
  {
   "cell_type": "code",
   "execution_count": 26,
   "id": "825d278c-8708-4bea-817e-12c41f8a2017",
   "metadata": {},
   "outputs": [],
   "source": [
    "import pandas as pd\n",
    "import numpy as np\n",
    "import matplotlib.pyplot as plt\n",
    "from sklearn.model_selection import train_test_split\n",
    "from sklearn.linear_model import LogisticRegression\n",
    "from sklearn.metrics import accuracy_score"
   ]
  },
  {
   "cell_type": "code",
   "execution_count": 27,
   "id": "f808b4f6-9070-4876-ab12-c6455817d3f1",
   "metadata": {},
   "outputs": [],
   "source": [
    "# Загрузим данные из файла titanic.csv\n",
    "df = pd.read_csv('titanic.csv')"
   ]
  },
  {
   "cell_type": "code",
   "execution_count": 28,
   "id": "d0a5b97a-9b1b-4981-9ace-8171331cab51",
   "metadata": {},
   "outputs": [],
   "source": [
    "# Удаляем строки с пропущенными значениями\n",
    "df_cleaned = df.dropna()"
   ]
  },
  {
   "cell_type": "code",
   "execution_count": 29,
   "id": "08dec0c0-9881-4783-b882-f92679183b68",
   "metadata": {},
   "outputs": [],
   "source": [
    "# Оставляем только числовые столбцы и 'Sex', 'Embarked'\n",
    "df_cleaned = df_cleaned[['Pclass', 'Sex', 'Age', 'SibSp', 'Parch', 'Fare', 'Embarked', 'Survived']]"
   ]
  },
  {
   "cell_type": "code",
   "execution_count": 30,
   "id": "5538241f-7bce-45fc-9e91-85e709bd3c63",
   "metadata": {},
   "outputs": [],
   "source": [
    "# Перекодируем 'Sex' и 'Embarked'\n",
    "df_cleaned['Sex'] = df_cleaned['Sex'].map({'male': 0, 'female': 1})\n",
    "df_cleaned['Embarked'] = df_cleaned['Embarked'].map({'C': 1, 'Q': 2, 'S': 3})"
   ]
  },
  {
   "cell_type": "code",
   "execution_count": 31,
   "id": "3be655f9-ee34-4ca4-a486-a9226f683af9",
   "metadata": {},
   "outputs": [
    {
     "name": "stdout",
     "output_type": "stream",
     "text": [
      "Процент потерянных данных: 79.46%\n"
     ]
    }
   ],
   "source": [
    "# Рассчитаем процент потерянных данных после выполнения всех шагов\n",
    "initial_shape = df.shape[0]  # Исходное количество строк\n",
    "cleaned_shape = df_cleaned.shape[0]  # Количество строк после очистки\n",
    "\n",
    "lost_data_percentage = ((initial_shape - cleaned_shape) / initial_shape) * 100\n",
    "print(f\"Процент потерянных данных: {lost_data_percentage:.2f}%\")"
   ]
  },
  {
   "cell_type": "code",
   "execution_count": 32,
   "id": "73f837fb-e90f-462d-8d09-97e6fd4e8260",
   "metadata": {},
   "outputs": [],
   "source": [
    "# Разделим данные на признаки (X) и целевую переменную (y)\n",
    "X = df_cleaned.drop(columns=['Survived'])\n",
    "y = df_cleaned['Survived']\n",
    "\n",
    "# Разделим данные на обучающую и тестовую выборки\n",
    "X_train, X_test, y_train, y_test = train_test_split(X, y, test_size=0.2, random_state=42)"
   ]
  },
  {
   "cell_type": "code",
   "execution_count": 33,
   "id": "604eb2d5-60d9-4b07-9bbd-d5f07e662011",
   "metadata": {},
   "outputs": [],
   "source": [
    "# Инициализируем и обучаем модель логистической регрессии\n",
    "clf = LogisticRegression(max_iter=1000)\n",
    "clf.fit(X_train, y_train)\n",
    "\n",
    "# Сделаем предсказания на тестовой выборке\n",
    "y_pred = clf.predict(X_test)"
   ]
  },
  {
   "cell_type": "code",
   "execution_count": 36,
   "id": "ba17697f-d37e-45e9-be99-2fa182cd968c",
   "metadata": {},
   "outputs": [
    {
     "name": "stdout",
     "output_type": "stream",
     "text": [
      "Точность модели: 0.7297297297297297\n"
     ]
    }
   ],
   "source": [
    "# Вычислим точность модели\n",
    "accuracy = accuracy_score(y_test, y_pred)\n",
    "print(f\"Точность модели: {accuracy}\")"
   ]
  },
  {
   "cell_type": "code",
   "execution_count": 41,
   "id": "c333fa86-2285-43d8-a961-c49e745a1b51",
   "metadata": {},
   "outputs": [
    {
     "name": "stdout",
     "output_type": "stream",
     "text": [
      "Точность модели без Embarked: 0.7297297297297297\n"
     ]
    }
   ],
   "source": [
    "# Копия датафрейма без 'Embarked'\n",
    "df_no_embarked = df_cleaned.drop(columns=['Embarked'])\n",
    "\n",
    "# Признаки и целевая переменная\n",
    "X_no_embarked = df_no_embarked.drop(columns=['Survived'])\n",
    "y_no_embarked = df_no_embarked['Survived']\n",
    "\n",
    "# Разделение на обучающую и тестовую\n",
    "X_train_ne, X_test_ne, y_train_ne, y_test_ne = train_test_split(\n",
    "    X_no_embarked, y_no_embarked, test_size=0.2, random_state=42)\n",
    "\n",
    "# Обучение модели\n",
    "model_no_embarked = LogisticRegression(max_iter=1000)\n",
    "model_no_embarked.fit(X_train_ne, y_train_ne)\n",
    "\n",
    "# Точность\n",
    "accuracy_no_embarked = model_no_embarked.score(X_test_ne, y_test_ne)\n",
    "print(f\"Точность модели без Embarked: {accuracy_no_embarked}\")\n"
   ]
  },
  {
   "cell_type": "code",
   "execution_count": null,
   "id": "bfb4090a-5840-40a6-8e45-4472caac3448",
   "metadata": {},
   "outputs": [],
   "source": []
  }
 ],
 "metadata": {
  "kernelspec": {
   "display_name": "Python 3 (ipykernel)",
   "language": "python",
   "name": "python3"
  },
  "language_info": {
   "codemirror_mode": {
    "name": "ipython",
    "version": 3
   },
   "file_extension": ".py",
   "mimetype": "text/x-python",
   "name": "python",
   "nbconvert_exporter": "python",
   "pygments_lexer": "ipython3",
   "version": "3.13.3"
  }
 },
 "nbformat": 4,
 "nbformat_minor": 5
}
